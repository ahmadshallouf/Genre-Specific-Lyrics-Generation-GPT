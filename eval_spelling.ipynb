{
 "cells": [
  {
   "cell_type": "code",
   "execution_count": 1,
   "id": "25f1f461",
   "metadata": {},
   "outputs": [],
   "source": [
    "from autocorrect import Speller\n",
    "import evaluate\n",
    "import json"
   ]
  },
  {
   "cell_type": "code",
   "execution_count": 3,
   "id": "36bc2ea8",
   "metadata": {},
   "outputs": [],
   "source": [
    "spell = Speller(lang='en')"
   ]
  },
  {
   "cell_type": "code",
   "execution_count": 13,
   "id": "f8705750",
   "metadata": {},
   "outputs": [],
   "source": [
    "# Opening JSON file and reading model predictions\n",
    "f = open('generation_output.json')\n",
    "data = json.load(f)\n",
    "\n",
    "predictions = \"\"\n",
    "for i in data:\n",
    "    prompt = i[0]\n",
    "    prediction = i[1]\n",
    "    predictions = predictions + prediction"
   ]
  },
  {
   "cell_type": "code",
   "execution_count": 14,
   "id": "a6460339",
   "metadata": {},
   "outputs": [],
   "source": [
    "# Correct spelling\n",
    "corrected_predictions = spell(predictions)"
   ]
  },
  {
   "cell_type": "code",
   "execution_count": 15,
   "id": "68ebd332",
   "metadata": {},
   "outputs": [
    {
     "name": "stdout",
     "output_type": "stream",
     "text": [
      "{'rouge1': 0.9936061381074168, 'rouge2': 0.9871959026888605, 'rougeL': 0.9936061381074168, 'rougeLsum': 0.9936061381074168}\n"
     ]
    }
   ],
   "source": [
    "# Evaluate spelling\n",
    "rouge = evaluate.load('rouge')\n",
    "predictions = [predictions]\n",
    "references = [corrected_predictions]\n",
    "results = rouge.compute(predictions=predictions, references=references)\n",
    "print(results)"
   ]
  }
 ],
 "metadata": {
  "kernelspec": {
   "display_name": "Python 3 (ipykernel)",
   "language": "python",
   "name": "python3"
  },
  "language_info": {
   "codemirror_mode": {
    "name": "ipython",
    "version": 3
   },
   "file_extension": ".py",
   "mimetype": "text/x-python",
   "name": "python",
   "nbconvert_exporter": "python",
   "pygments_lexer": "ipython3",
   "version": "3.10.9"
  }
 },
 "nbformat": 4,
 "nbformat_minor": 5
}
