{
 "cells": [
  {
   "cell_type": "code",
   "execution_count": 1,
   "id": "25f1f461",
   "metadata": {
    "ExecuteTime": {
     "end_time": "2023-07-01T15:13:19.395961Z",
     "start_time": "2023-07-01T15:13:16.292260Z"
    }
   },
   "outputs": [
    {
     "name": "stderr",
     "output_type": "stream",
     "text": [
      "/Users/ahmadshallouf/workspace/Genre-Specific-Lyrics-Generation-GPT/venv/lib/python3.9/site-packages/urllib3/__init__.py:34: NotOpenSSLWarning: urllib3 v2.0 only supports OpenSSL 1.1.1+, currently the 'ssl' module is compiled with 'LibreSSL 2.8.3'. See: https://github.com/urllib3/urllib3/issues/3020\n",
      "  warnings.warn(\n"
     ]
    }
   ],
   "source": [
    "from autocorrect import Speller\n",
    "import evaluate\n",
    "import json"
   ]
  },
  {
   "cell_type": "markdown",
   "source": [],
   "metadata": {
    "collapsed": false
   }
  },
  {
   "cell_type": "code",
   "execution_count": 2,
   "id": "36bc2ea8",
   "metadata": {
    "ExecuteTime": {
     "end_time": "2023-07-01T15:13:19.438836Z",
     "start_time": "2023-07-01T15:13:19.395706Z"
    }
   },
   "outputs": [],
   "source": [
    "spell = Speller(lang='en')"
   ]
  },
  {
   "cell_type": "code",
   "execution_count": 3,
   "id": "f8705750",
   "metadata": {
    "ExecuteTime": {
     "end_time": "2023-07-01T15:13:29.694639Z",
     "start_time": "2023-07-01T15:13:29.607691Z"
    }
   },
   "outputs": [],
   "source": [
    "# Opening JSON file and reading model predictions\n",
    "f = open('generation_output.json')\n",
    "data = json.load(f)\n",
    "data.pop(0)\n",
    "predictions = \"\"\n",
    "for i in data:\n",
    "    prompt = i[0]\n",
    "    prediction = i[1]\n",
    "    predictions = predictions + prediction"
   ]
  },
  {
   "cell_type": "code",
   "execution_count": 5,
   "id": "a6460339",
   "metadata": {
    "ExecuteTime": {
     "end_time": "2023-07-01T15:20:43.270644Z",
     "start_time": "2023-07-01T15:13:42.580395Z"
    }
   },
   "outputs": [
    {
     "ename": "KeyboardInterrupt",
     "evalue": "",
     "output_type": "error",
     "traceback": [
      "\u001B[0;31m---------------------------------------------------------------------------\u001B[0m",
      "\u001B[0;31mKeyboardInterrupt\u001B[0m                         Traceback (most recent call last)",
      "Cell \u001B[0;32mIn[5], line 2\u001B[0m\n\u001B[1;32m      1\u001B[0m \u001B[38;5;66;03m# Correct spelling\u001B[39;00m\n\u001B[0;32m----> 2\u001B[0m corrected_predictions \u001B[38;5;241m=\u001B[39m \u001B[43mspell\u001B[49m\u001B[43m(\u001B[49m\u001B[43mpredictions\u001B[49m\u001B[43m)\u001B[49m\n",
      "File \u001B[0;32m~/workspace/Genre-Specific-Lyrics-Generation-GPT/venv/lib/python3.9/site-packages/autocorrect/__init__.py:128\u001B[0m, in \u001B[0;36mSpeller.autocorrect_sentence\u001B[0;34m(self, sentence)\u001B[0m\n\u001B[1;32m    127\u001B[0m \u001B[38;5;28;01mdef\u001B[39;00m \u001B[38;5;21mautocorrect_sentence\u001B[39m(\u001B[38;5;28mself\u001B[39m, sentence):\n\u001B[0;32m--> 128\u001B[0m     \u001B[38;5;28;01mreturn\u001B[39;00m \u001B[43mre\u001B[49m\u001B[38;5;241;43m.\u001B[39;49m\u001B[43msub\u001B[49m\u001B[43m(\u001B[49m\n\u001B[1;32m    129\u001B[0m \u001B[43m        \u001B[49m\u001B[43mword_regexes\u001B[49m\u001B[43m[\u001B[49m\u001B[38;5;28;43mself\u001B[39;49m\u001B[38;5;241;43m.\u001B[39;49m\u001B[43mlang\u001B[49m\u001B[43m]\u001B[49m\u001B[43m,\u001B[49m\n\u001B[1;32m    130\u001B[0m \u001B[43m        \u001B[49m\u001B[38;5;28;43;01mlambda\u001B[39;49;00m\u001B[43m \u001B[49m\u001B[43mmatch\u001B[49m\u001B[43m:\u001B[49m\u001B[43m \u001B[49m\u001B[38;5;28;43mself\u001B[39;49m\u001B[38;5;241;43m.\u001B[39;49m\u001B[43mautocorrect_word\u001B[49m\u001B[43m(\u001B[49m\u001B[43mmatch\u001B[49m\u001B[38;5;241;43m.\u001B[39;49m\u001B[43mgroup\u001B[49m\u001B[43m(\u001B[49m\u001B[38;5;241;43m0\u001B[39;49m\u001B[43m)\u001B[49m\u001B[43m)\u001B[49m\u001B[43m,\u001B[49m\n\u001B[1;32m    131\u001B[0m \u001B[43m        \u001B[49m\u001B[43msentence\u001B[49m\u001B[43m,\u001B[49m\n\u001B[1;32m    132\u001B[0m \u001B[43m    \u001B[49m\u001B[43m)\u001B[49m\n",
      "File \u001B[0;32m/Applications/Xcode.app/Contents/Developer/Library/Frameworks/Python3.framework/Versions/3.9/lib/python3.9/re.py:210\u001B[0m, in \u001B[0;36msub\u001B[0;34m(pattern, repl, string, count, flags)\u001B[0m\n\u001B[1;32m    203\u001B[0m \u001B[38;5;28;01mdef\u001B[39;00m \u001B[38;5;21msub\u001B[39m(pattern, repl, string, count\u001B[38;5;241m=\u001B[39m\u001B[38;5;241m0\u001B[39m, flags\u001B[38;5;241m=\u001B[39m\u001B[38;5;241m0\u001B[39m):\n\u001B[1;32m    204\u001B[0m \u001B[38;5;250m    \u001B[39m\u001B[38;5;124;03m\"\"\"Return the string obtained by replacing the leftmost\u001B[39;00m\n\u001B[1;32m    205\u001B[0m \u001B[38;5;124;03m    non-overlapping occurrences of the pattern in string by the\u001B[39;00m\n\u001B[1;32m    206\u001B[0m \u001B[38;5;124;03m    replacement repl.  repl can be either a string or a callable;\u001B[39;00m\n\u001B[1;32m    207\u001B[0m \u001B[38;5;124;03m    if a string, backslash escapes in it are processed.  If it is\u001B[39;00m\n\u001B[1;32m    208\u001B[0m \u001B[38;5;124;03m    a callable, it's passed the Match object and must return\u001B[39;00m\n\u001B[1;32m    209\u001B[0m \u001B[38;5;124;03m    a replacement string to be used.\"\"\"\u001B[39;00m\n\u001B[0;32m--> 210\u001B[0m     \u001B[38;5;28;01mreturn\u001B[39;00m \u001B[43m_compile\u001B[49m\u001B[43m(\u001B[49m\u001B[43mpattern\u001B[49m\u001B[43m,\u001B[49m\u001B[43m \u001B[49m\u001B[43mflags\u001B[49m\u001B[43m)\u001B[49m\u001B[38;5;241;43m.\u001B[39;49m\u001B[43msub\u001B[49m\u001B[43m(\u001B[49m\u001B[43mrepl\u001B[49m\u001B[43m,\u001B[49m\u001B[43m \u001B[49m\u001B[43mstring\u001B[49m\u001B[43m,\u001B[49m\u001B[43m \u001B[49m\u001B[43mcount\u001B[49m\u001B[43m)\u001B[49m\n",
      "File \u001B[0;32m~/workspace/Genre-Specific-Lyrics-Generation-GPT/venv/lib/python3.9/site-packages/autocorrect/__init__.py:130\u001B[0m, in \u001B[0;36mSpeller.autocorrect_sentence.<locals>.<lambda>\u001B[0;34m(match)\u001B[0m\n\u001B[1;32m    127\u001B[0m \u001B[38;5;28;01mdef\u001B[39;00m \u001B[38;5;21mautocorrect_sentence\u001B[39m(\u001B[38;5;28mself\u001B[39m, sentence):\n\u001B[1;32m    128\u001B[0m     \u001B[38;5;28;01mreturn\u001B[39;00m re\u001B[38;5;241m.\u001B[39msub(\n\u001B[1;32m    129\u001B[0m         word_regexes[\u001B[38;5;28mself\u001B[39m\u001B[38;5;241m.\u001B[39mlang],\n\u001B[0;32m--> 130\u001B[0m         \u001B[38;5;28;01mlambda\u001B[39;00m match: \u001B[38;5;28;43mself\u001B[39;49m\u001B[38;5;241;43m.\u001B[39;49m\u001B[43mautocorrect_word\u001B[49m\u001B[43m(\u001B[49m\u001B[43mmatch\u001B[49m\u001B[38;5;241;43m.\u001B[39;49m\u001B[43mgroup\u001B[49m\u001B[43m(\u001B[49m\u001B[38;5;241;43m0\u001B[39;49m\u001B[43m)\u001B[49m\u001B[43m)\u001B[49m,\n\u001B[1;32m    131\u001B[0m         sentence,\n\u001B[1;32m    132\u001B[0m     )\n",
      "File \u001B[0;32m~/workspace/Genre-Specific-Lyrics-Generation-GPT/venv/lib/python3.9/site-packages/autocorrect/__init__.py:114\u001B[0m, in \u001B[0;36mSpeller.autocorrect_word\u001B[0;34m(self, word)\u001B[0m\n\u001B[1;32m    111\u001B[0m \u001B[38;5;28;01mif\u001B[39;00m word \u001B[38;5;241m==\u001B[39m \u001B[38;5;124m\"\u001B[39m\u001B[38;5;124m\"\u001B[39m:\n\u001B[1;32m    112\u001B[0m     \u001B[38;5;28;01mreturn\u001B[39;00m \u001B[38;5;124m\"\u001B[39m\u001B[38;5;124m\"\u001B[39m\n\u001B[0;32m--> 114\u001B[0m candidates \u001B[38;5;241m=\u001B[39m \u001B[38;5;28;43mself\u001B[39;49m\u001B[38;5;241;43m.\u001B[39;49m\u001B[43mget_candidates\u001B[49m\u001B[43m(\u001B[49m\u001B[43mword\u001B[49m\u001B[43m)\u001B[49m\n\u001B[1;32m    116\u001B[0m \u001B[38;5;66;03m# in case the word is capitalized\u001B[39;00m\n\u001B[1;32m    117\u001B[0m \u001B[38;5;28;01mif\u001B[39;00m word[\u001B[38;5;241m0\u001B[39m]\u001B[38;5;241m.\u001B[39misupper():\n",
      "File \u001B[0;32m~/workspace/Genre-Specific-Lyrics-Generation-GPT/venv/lib/python3.9/site-packages/autocorrect/__init__.py:104\u001B[0m, in \u001B[0;36mSpeller.get_candidates\u001B[0;34m(self, word)\u001B[0m\n\u001B[1;32m     99\u001B[0m     candidates \u001B[38;5;241m=\u001B[39m \u001B[38;5;28mself\u001B[39m\u001B[38;5;241m.\u001B[39mexisting([word]) \u001B[38;5;129;01mor\u001B[39;00m \u001B[38;5;28mself\u001B[39m\u001B[38;5;241m.\u001B[39mexisting(w\u001B[38;5;241m.\u001B[39mtypos()) \u001B[38;5;129;01mor\u001B[39;00m [word]\n\u001B[1;32m    100\u001B[0m \u001B[38;5;28;01melse\u001B[39;00m:\n\u001B[1;32m    101\u001B[0m     candidates \u001B[38;5;241m=\u001B[39m (\n\u001B[1;32m    102\u001B[0m         \u001B[38;5;28mself\u001B[39m\u001B[38;5;241m.\u001B[39mexisting([word])\n\u001B[1;32m    103\u001B[0m         \u001B[38;5;129;01mor\u001B[39;00m \u001B[38;5;28mself\u001B[39m\u001B[38;5;241m.\u001B[39mexisting(w\u001B[38;5;241m.\u001B[39mtypos())\n\u001B[0;32m--> 104\u001B[0m         \u001B[38;5;129;01mor\u001B[39;00m \u001B[38;5;28;43mself\u001B[39;49m\u001B[38;5;241;43m.\u001B[39;49m\u001B[43mexisting\u001B[49m\u001B[43m(\u001B[49m\u001B[43mw\u001B[49m\u001B[38;5;241;43m.\u001B[39;49m\u001B[43mdouble_typos\u001B[49m\u001B[43m(\u001B[49m\u001B[43m)\u001B[49m\u001B[43m)\u001B[49m\n\u001B[1;32m    105\u001B[0m         \u001B[38;5;129;01mor\u001B[39;00m [word]\n\u001B[1;32m    106\u001B[0m     )\n\u001B[1;32m    107\u001B[0m \u001B[38;5;28;01mreturn\u001B[39;00m [(\u001B[38;5;28mself\u001B[39m\u001B[38;5;241m.\u001B[39mnlp_data\u001B[38;5;241m.\u001B[39mget(c, \u001B[38;5;241m0\u001B[39m), c) \u001B[38;5;28;01mfor\u001B[39;00m c \u001B[38;5;129;01min\u001B[39;00m candidates]\n",
      "File \u001B[0;32m~/workspace/Genre-Specific-Lyrics-Generation-GPT/venv/lib/python3.9/site-packages/autocorrect/__init__.py:94\u001B[0m, in \u001B[0;36mSpeller.existing\u001B[0;34m(self, words)\u001B[0m\n\u001B[1;32m     92\u001B[0m \u001B[38;5;28;01mdef\u001B[39;00m \u001B[38;5;21mexisting\u001B[39m(\u001B[38;5;28mself\u001B[39m, words):\n\u001B[1;32m     93\u001B[0m \u001B[38;5;250m    \u001B[39m\u001B[38;5;124;03m\"\"\"{'the', 'teh'} => {'the'}\"\"\"\u001B[39;00m\n\u001B[0;32m---> 94\u001B[0m     \u001B[38;5;28;01mreturn\u001B[39;00m {word \u001B[38;5;28;01mfor\u001B[39;00m word \u001B[38;5;129;01min\u001B[39;00m words \u001B[38;5;28;01mif\u001B[39;00m word \u001B[38;5;129;01min\u001B[39;00m \u001B[38;5;28mself\u001B[39m\u001B[38;5;241m.\u001B[39mnlp_data}\n",
      "File \u001B[0;32m~/workspace/Genre-Specific-Lyrics-Generation-GPT/venv/lib/python3.9/site-packages/autocorrect/__init__.py:94\u001B[0m, in \u001B[0;36m<setcomp>\u001B[0;34m(.0)\u001B[0m\n\u001B[1;32m     92\u001B[0m \u001B[38;5;28;01mdef\u001B[39;00m \u001B[38;5;21mexisting\u001B[39m(\u001B[38;5;28mself\u001B[39m, words):\n\u001B[1;32m     93\u001B[0m \u001B[38;5;250m    \u001B[39m\u001B[38;5;124;03m\"\"\"{'the', 'teh'} => {'the'}\"\"\"\u001B[39;00m\n\u001B[0;32m---> 94\u001B[0m     \u001B[38;5;28;01mreturn\u001B[39;00m {word \u001B[38;5;28;01mfor\u001B[39;00m word \u001B[38;5;129;01min\u001B[39;00m words \u001B[38;5;28;01mif\u001B[39;00m word \u001B[38;5;129;01min\u001B[39;00m \u001B[38;5;28mself\u001B[39m\u001B[38;5;241m.\u001B[39mnlp_data}\n",
      "File \u001B[0;32m~/workspace/Genre-Specific-Lyrics-Generation-GPT/venv/lib/python3.9/site-packages/autocorrect/typos.py:62\u001B[0m, in \u001B[0;36mWord._inserts\u001B[0;34m(self)\u001B[0m\n\u001B[1;32m     60\u001B[0m \u001B[38;5;28;01mfor\u001B[39;00m a, b \u001B[38;5;129;01min\u001B[39;00m \u001B[38;5;28mself\u001B[39m\u001B[38;5;241m.\u001B[39mslices:\n\u001B[1;32m     61\u001B[0m     \u001B[38;5;28;01mfor\u001B[39;00m c \u001B[38;5;129;01min\u001B[39;00m \u001B[38;5;28mself\u001B[39m\u001B[38;5;241m.\u001B[39malphabet:\n\u001B[0;32m---> 62\u001B[0m         \u001B[38;5;28;01myield\u001B[39;00m \u001B[38;5;124m\"\u001B[39m\u001B[38;5;124m\"\u001B[39m\u001B[38;5;241m.\u001B[39mjoin((a, c, b))\n",
      "\u001B[0;31mKeyboardInterrupt\u001B[0m: "
     ]
    }
   ],
   "source": [
    "# Correct spelling\n",
    "corrected_predictions = spell(predictions)"
   ]
  },
  {
   "cell_type": "code",
   "execution_count": null,
   "id": "68ebd332",
   "metadata": {},
   "outputs": [],
   "source": [
    "# Evaluate spelling\n",
    "rouge = evaluate.load('rouge')\n",
    "predictions = [predictions]\n",
    "references = [corrected_predictions]\n",
    "results = rouge.compute(predictions=predictions, references=references)\n",
    "print(results)"
   ]
  },
  {
   "cell_type": "code",
   "execution_count": null,
   "outputs": [],
   "source": [],
   "metadata": {
    "collapsed": false
   }
  }
 ],
 "metadata": {
  "kernelspec": {
   "display_name": "Python 3 (ipykernel)",
   "language": "python",
   "name": "python3"
  },
  "language_info": {
   "codemirror_mode": {
    "name": "ipython",
    "version": 3
   },
   "file_extension": ".py",
   "mimetype": "text/x-python",
   "name": "python",
   "nbconvert_exporter": "python",
   "pygments_lexer": "ipython3",
   "version": "3.10.9"
  }
 },
 "nbformat": 4,
 "nbformat_minor": 5
}
