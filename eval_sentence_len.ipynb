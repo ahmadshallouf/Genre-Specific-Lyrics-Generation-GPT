{
 "cells": [
  {
   "cell_type": "code",
   "execution_count": 2,
   "id": "f81d8721",
   "metadata": {},
   "outputs": [],
   "source": [
    "import json\n",
    "import pandas as pd"
   ]
  },
  {
   "cell_type": "code",
   "execution_count": 8,
   "id": "26dd115d",
   "metadata": {},
   "outputs": [],
   "source": [
    "def process_prompt(prompt):\n",
    "    if prompt.startswith(\"Generate music lyrics\"):\n",
    "        res = prompt.split(\"for genre \", 1)[1].split(\", topic\")[0]\n",
    "    elif prompt.startswith(\"Generate lyrics in genre\"):\n",
    "        res = prompt.split(\"lyrics in \", 1)[1].split(\" about\")[0]\n",
    "    elif prompt.startswith(\"For genre\"):\n",
    "        res = prompt.split(\"For genre \", 1)[1].split(\" generate\")[0]\n",
    "    else:\n",
    "        res = prompt.split(\"Generate \", 1)[1].split(\" lyrics\")[0]\n",
    "    return res"
   ]
  },
  {
   "cell_type": "code",
   "execution_count": 9,
   "id": "ac0f8ff2",
   "metadata": {},
   "outputs": [],
   "source": [
    "# Opening JSON file and reading model predictions\n",
    "f = open('generation_output.json')\n",
    "data = json.load(f)\n",
    "\n",
    "genres = {'pop': '', 'country': '', 'blues': '', 'jazz': '', 'reggae': '', 'hip hop': ''}\n",
    "predictions = \"\"\n",
    "for i in data:\n",
    "    prompt = i[0]\n",
    "    prediction = i[1]\n",
    "    res = process_prompt(prompt)\n",
    "    genres[res] = genres[res] + prediction\n",
    "\n",
    "avg_sen_len_pred = {'pop': 0, 'country': 0, 'blues': 0, 'jazz': 0, 'reggae': 0, 'hip hop': 0}"
   ]
  },
  {
   "cell_type": "code",
   "execution_count": 10,
   "id": "7df5bab5",
   "metadata": {},
   "outputs": [],
   "source": [
    "def avg_sentence_len(text):\n",
    "  sentences = text.split(\".\") #split the text into a list of sentences.\n",
    "  words = text.split(\" \") #split the input text into a list of separate words\n",
    "  if(sentences[len(sentences)-1]==\"\"): #if the last value in sentences is an empty string\n",
    "    average_sentence_length = len(words) / len(sentences)-1\n",
    "  else:\n",
    "    average_sentence_length = len(words) / len(sentences)\n",
    "  return average_sentence_length #returning avg length of sentence"
   ]
  },
  {
   "cell_type": "code",
   "execution_count": 11,
   "id": "342049f6",
   "metadata": {},
   "outputs": [
    {
     "name": "stdout",
     "output_type": "stream",
     "text": [
      "{'pop': 13.592592592592593, 'country': 0.0, 'blues': 0.0, 'jazz': 0.0, 'reggae': 0.0, 'hip hop': 16.8}\n"
     ]
    }
   ],
   "source": [
    "for key, value in genres.items():\n",
    "    avg_sen_len_pred[key] = avg_sentence_len(value)\n",
    "\n",
    "print(avg_sen_len_pred)"
   ]
  },
  {
   "cell_type": "code",
   "execution_count": 12,
   "id": "cc314930",
   "metadata": {},
   "outputs": [
    {
     "data": {
      "text/html": [
       "<div>\n",
       "<style scoped>\n",
       "    .dataframe tbody tr th:only-of-type {\n",
       "        vertical-align: middle;\n",
       "    }\n",
       "\n",
       "    .dataframe tbody tr th {\n",
       "        vertical-align: top;\n",
       "    }\n",
       "\n",
       "    .dataframe thead th {\n",
       "        text-align: right;\n",
       "    }\n",
       "</style>\n",
       "<table border=\"1\" class=\"dataframe\">\n",
       "  <thead>\n",
       "    <tr style=\"text-align: right;\">\n",
       "      <th></th>\n",
       "      <th>genre</th>\n",
       "      <th>lyrics</th>\n",
       "      <th>topic</th>\n",
       "    </tr>\n",
       "  </thead>\n",
       "  <tbody>\n",
       "    <tr>\n",
       "      <th>0</th>\n",
       "      <td>pop</td>\n",
       "      <td>hold time feel break feel untrue convince spea...</td>\n",
       "      <td>sadness</td>\n",
       "    </tr>\n",
       "    <tr>\n",
       "      <th>4</th>\n",
       "      <td>pop</td>\n",
       "      <td>believe drop rain fall grow believe darkest ni...</td>\n",
       "      <td>world/life</td>\n",
       "    </tr>\n",
       "    <tr>\n",
       "      <th>6</th>\n",
       "      <td>pop</td>\n",
       "      <td>sweetheart send letter goodbye secret feel bet...</td>\n",
       "      <td>music</td>\n",
       "    </tr>\n",
       "    <tr>\n",
       "      <th>10</th>\n",
       "      <td>pop</td>\n",
       "      <td>kiss lips want stroll charm mambo chacha merin...</td>\n",
       "      <td>romantic</td>\n",
       "    </tr>\n",
       "    <tr>\n",
       "      <th>12</th>\n",
       "      <td>pop</td>\n",
       "      <td>till darling till matter know till dream live ...</td>\n",
       "      <td>romantic</td>\n",
       "    </tr>\n",
       "    <tr>\n",
       "      <th>...</th>\n",
       "      <td>...</td>\n",
       "      <td>...</td>\n",
       "      <td>...</td>\n",
       "    </tr>\n",
       "    <tr>\n",
       "      <th>82447</th>\n",
       "      <td>hip hop</td>\n",
       "      <td>cause fuck leave scar tick tock clock come kno...</td>\n",
       "      <td>obscene</td>\n",
       "    </tr>\n",
       "    <tr>\n",
       "      <th>82448</th>\n",
       "      <td>hip hop</td>\n",
       "      <td>minks things chain ring braclets yap fame come...</td>\n",
       "      <td>obscene</td>\n",
       "    </tr>\n",
       "    <tr>\n",
       "      <th>82449</th>\n",
       "      <td>hip hop</td>\n",
       "      <td>get ban get ban stick crack relax plan attack ...</td>\n",
       "      <td>obscene</td>\n",
       "    </tr>\n",
       "    <tr>\n",
       "      <th>82450</th>\n",
       "      <td>hip hop</td>\n",
       "      <td>check check yeah yeah hear thing call switch g...</td>\n",
       "      <td>obscene</td>\n",
       "    </tr>\n",
       "    <tr>\n",
       "      <th>82451</th>\n",
       "      <td>hip hop</td>\n",
       "      <td>remix killer alive remix thriller trap bitch s...</td>\n",
       "      <td>obscene</td>\n",
       "    </tr>\n",
       "  </tbody>\n",
       "</table>\n",
       "<p>28372 rows × 3 columns</p>\n",
       "</div>"
      ],
      "text/plain": [
       "         genre                                             lyrics       topic\n",
       "0          pop  hold time feel break feel untrue convince spea...     sadness\n",
       "4          pop  believe drop rain fall grow believe darkest ni...  world/life\n",
       "6          pop  sweetheart send letter goodbye secret feel bet...       music\n",
       "10         pop  kiss lips want stroll charm mambo chacha merin...    romantic\n",
       "12         pop  till darling till matter know till dream live ...    romantic\n",
       "...        ...                                                ...         ...\n",
       "82447  hip hop  cause fuck leave scar tick tock clock come kno...     obscene\n",
       "82448  hip hop  minks things chain ring braclets yap fame come...     obscene\n",
       "82449  hip hop  get ban get ban stick crack relax plan attack ...     obscene\n",
       "82450  hip hop  check check yeah yeah hear thing call switch g...     obscene\n",
       "82451  hip hop  remix killer alive remix thriller trap bitch s...     obscene\n",
       "\n",
       "[28372 rows x 3 columns]"
      ]
     },
     "execution_count": 12,
     "metadata": {},
     "output_type": "execute_result"
    }
   ],
   "source": [
    "df = pd.read_csv('data/tcc_ceds_music.csv', index_col=0, encoding = 'unicode_escape')\n",
    "\n",
    "cols = [3, 4, 28]\n",
    "df = df[df.columns[cols]]\n",
    "df"
   ]
  },
  {
   "cell_type": "code",
   "execution_count": 25,
   "id": "725cdc17",
   "metadata": {},
   "outputs": [
    {
     "name": "stdout",
     "output_type": "stream",
     "text": [
      "{'pop': 77.89818233456404, 'country': 61.894582185491274, 'blues': 62.70960034752389, 'jazz': 71.09700910273082, 'reggae': 97.66333066453163, 'hip hop': 97.29314159292035, 'rock': 65.44967773921665}\n"
     ]
    }
   ],
   "source": [
    "avg_sen_len_dt = {'pop': 0, 'country': 0, 'blues': 0, 'jazz': 0, 'reggae': 0, 'hip hop': 0}\n",
    "for genre in df.genre.unique():\n",
    "    df_genre = df.loc[df['genre'] == genre]\n",
    "    concatenated = '.'.join(df_genre['lyrics'].tolist())\n",
    "    avg_sen_len_dt[genre] = avg_sentence_len(concatenated)\n",
    "\n",
    "print(avg_sen_len_dt)"
   ]
  },
  {
   "cell_type": "code",
   "execution_count": null,
   "id": "951e5ac2",
   "metadata": {},
   "outputs": [],
   "source": []
  }
 ],
 "metadata": {
  "kernelspec": {
   "display_name": "Python 3 (ipykernel)",
   "language": "python",
   "name": "python3"
  },
  "language_info": {
   "codemirror_mode": {
    "name": "ipython",
    "version": 3
   },
   "file_extension": ".py",
   "mimetype": "text/x-python",
   "name": "python",
   "nbconvert_exporter": "python",
   "pygments_lexer": "ipython3",
   "version": "3.10.9"
  }
 },
 "nbformat": 4,
 "nbformat_minor": 5
}
