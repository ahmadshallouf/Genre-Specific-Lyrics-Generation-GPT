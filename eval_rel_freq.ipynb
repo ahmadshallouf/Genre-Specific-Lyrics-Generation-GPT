{
 "cells": [
  {
   "cell_type": "code",
   "execution_count": 2,
   "id": "092a555f",
   "metadata": {
    "ExecuteTime": {
     "end_time": "2023-07-05T14:30:33.664858Z",
     "start_time": "2023-07-05T14:30:33.651525Z"
    }
   },
   "outputs": [],
   "source": [
    "import pandas as pd\n",
    "from lexical_diversity import lex_div as ld\n",
    "import json\n",
    "import math"
   ]
  },
  {
   "cell_type": "code",
   "execution_count": 3,
   "id": "8ca03339",
   "metadata": {
    "ExecuteTime": {
     "end_time": "2023-07-05T14:30:33.900073Z",
     "start_time": "2023-07-05T14:30:33.664735Z"
    }
   },
   "outputs": [
    {
     "data": {
      "text/plain": "         genre                                             lyrics       topic\n0          pop  hold time feel break feel untrue convince spea...     sadness\n4          pop  believe drop rain fall grow believe darkest ni...  world/life\n6          pop  sweetheart send letter goodbye secret feel bet...       music\n10         pop  kiss lips want stroll charm mambo chacha merin...    romantic\n12         pop  till darling till matter know till dream live ...    romantic\n...        ...                                                ...         ...\n82447  hip hop  cause fuck leave scar tick tock clock come kno...     obscene\n82448  hip hop  minks things chain ring braclets yap fame come...     obscene\n82449  hip hop  get ban get ban stick crack relax plan attack ...     obscene\n82450  hip hop  check check yeah yeah hear thing call switch g...     obscene\n82451  hip hop  remix killer alive remix thriller trap bitch s...     obscene\n\n[28372 rows x 3 columns]",
      "text/html": "<div>\n<style scoped>\n    .dataframe tbody tr th:only-of-type {\n        vertical-align: middle;\n    }\n\n    .dataframe tbody tr th {\n        vertical-align: top;\n    }\n\n    .dataframe thead th {\n        text-align: right;\n    }\n</style>\n<table border=\"1\" class=\"dataframe\">\n  <thead>\n    <tr style=\"text-align: right;\">\n      <th></th>\n      <th>genre</th>\n      <th>lyrics</th>\n      <th>topic</th>\n    </tr>\n  </thead>\n  <tbody>\n    <tr>\n      <th>0</th>\n      <td>pop</td>\n      <td>hold time feel break feel untrue convince spea...</td>\n      <td>sadness</td>\n    </tr>\n    <tr>\n      <th>4</th>\n      <td>pop</td>\n      <td>believe drop rain fall grow believe darkest ni...</td>\n      <td>world/life</td>\n    </tr>\n    <tr>\n      <th>6</th>\n      <td>pop</td>\n      <td>sweetheart send letter goodbye secret feel bet...</td>\n      <td>music</td>\n    </tr>\n    <tr>\n      <th>10</th>\n      <td>pop</td>\n      <td>kiss lips want stroll charm mambo chacha merin...</td>\n      <td>romantic</td>\n    </tr>\n    <tr>\n      <th>12</th>\n      <td>pop</td>\n      <td>till darling till matter know till dream live ...</td>\n      <td>romantic</td>\n    </tr>\n    <tr>\n      <th>...</th>\n      <td>...</td>\n      <td>...</td>\n      <td>...</td>\n    </tr>\n    <tr>\n      <th>82447</th>\n      <td>hip hop</td>\n      <td>cause fuck leave scar tick tock clock come kno...</td>\n      <td>obscene</td>\n    </tr>\n    <tr>\n      <th>82448</th>\n      <td>hip hop</td>\n      <td>minks things chain ring braclets yap fame come...</td>\n      <td>obscene</td>\n    </tr>\n    <tr>\n      <th>82449</th>\n      <td>hip hop</td>\n      <td>get ban get ban stick crack relax plan attack ...</td>\n      <td>obscene</td>\n    </tr>\n    <tr>\n      <th>82450</th>\n      <td>hip hop</td>\n      <td>check check yeah yeah hear thing call switch g...</td>\n      <td>obscene</td>\n    </tr>\n    <tr>\n      <th>82451</th>\n      <td>hip hop</td>\n      <td>remix killer alive remix thriller trap bitch s...</td>\n      <td>obscene</td>\n    </tr>\n  </tbody>\n</table>\n<p>28372 rows × 3 columns</p>\n</div>"
     },
     "execution_count": 3,
     "metadata": {},
     "output_type": "execute_result"
    }
   ],
   "source": [
    "df = pd.read_csv('data/tcc_ceds_music.csv', index_col=0, encoding = 'unicode_escape')\n",
    "\n",
    "cols = [3, 4, 28]\n",
    "df = df[df.columns[cols]]\n",
    "df"
   ]
  },
  {
   "cell_type": "code",
   "execution_count": 8,
   "id": "96c6aa81",
   "metadata": {
    "ExecuteTime": {
     "end_time": "2023-07-05T14:52:56.741141Z",
     "start_time": "2023-07-05T14:52:56.737372Z"
    }
   },
   "outputs": [],
   "source": [
    "def process_prompt(prompt):\n",
    "    if prompt.startswith(\"Generate music lyrics\"):\n",
    "        res = prompt.split(\"for genre \", 1)[1].split(\", topic\")[0]\n",
    "    elif prompt.startswith(\"Generate lyrics in genre\"):\n",
    "        res = prompt.split(\"lyrics in genre \", 1)[1].split(\" about\")[0]\n",
    "    elif prompt.startswith(\"For genre\"):\n",
    "        res = prompt.split(\"For genre \", 1)[1].split(\" generate\")[0]\n",
    "    else:\n",
    "        res = prompt.split(\"Generate \", 1)[1].split(\" lyrics\")[0]\n",
    "    return res"
   ]
  },
  {
   "cell_type": "code",
   "execution_count": 11,
   "id": "3d4a72ae",
   "metadata": {
    "ExecuteTime": {
     "end_time": "2023-07-05T15:11:20.605620Z",
     "start_time": "2023-07-05T14:56:09.343559Z"
    }
   },
   "outputs": [
    {
     "name": "stdout",
     "output_type": "stream",
     "text": [
      "{'pop': ['about', 'act', 'admit', 'afraid', 'ahead', 'ahh', 'ahhh', 'al', 'alive', 'alright'], 'country': ['about', 'afraid', 'agony', 'ahead', 'alive', 'alright', 'angel', 'anybody', 'anymore', 'apart'], 'blues': ['aaaah', 'about', 'ache', 'advice', 'afraid', 'age', 'aha', 'alive', 'alright', 'anybody'], 'jazz': ['about', 'adventure', 'afraid', 'ahead', 'alive', 'alright', 'anymore', 'apart', 'arm', 'asleep'], 'reggae': ['afraid', 'ahaaa', 'ahead', 'aight', 'alive', 'alright', 'angel', 'answer', 'anybody', 'anymore'], 'hip hop': ['a', 'accept', 'ahahah', 'ahead', 'aight', 'album', 'alive', 'alright', 'american', 'answer'], 'rock': ['a', 'about', 'advent', 'aflame', 'afraid', 'afternoon', 'age', 'ahhhh', 'alive', 'alright']}\n"
     ]
    }
   ],
   "source": [
    "f = open('generation_output.json')\n",
    "data = json.load(f)\n",
    "data.pop(0)\n",
    "#genres = {'pop': '', 'country': '', 'blues': '', 'jazz': '', 'reggae': '', 'hip hop': ''}\n",
    "genres = {'pop': '', 'country': '', 'blues': '', 'jazz': '', 'reggae': '', 'hip hop': '', 'rock': ''}\n",
    "counter = {'pop': 0, 'country': 0, 'blues': 0, 'jazz': 0, 'reggae': 0, 'hip hop': 0, 'rock': 0}\n",
    "threshold = 100\n",
    "for i in data:\n",
    "    prompt = i[0]\n",
    "    prediction = i[1]\n",
    "    res = process_prompt(prompt)\n",
    "    if (counter[res] < threshold):\n",
    "        genres[res] = genres[res] + prediction[len(prompt):]\n",
    "        counter[res] = counter[res] + 1\n",
    "\n",
    "\n",
    "relative_freqs = {}\n",
    "for genre, lyrics in genres.items():\n",
    "    flt = ld.flemmatize(lyrics)\n",
    "\n",
    "    relative_freq_genre = {}\n",
    "    for word in flt:\n",
    "        if (word!=''):\n",
    "            freq_num = lyrics.count(word)/len(lyrics)\n",
    "            lyrics_in_dataset = ''.join(df.loc[df['genre'] == genre].lyrics)\n",
    "            freq_denom = lyrics_in_dataset.count(word)/len(lyrics_in_dataset)\n",
    "            if freq_denom != 0:\n",
    "                relative_freq_genre[word] = freq_num/freq_denom\n",
    "    \n",
    "    sorted_freqs = sorted(relative_freq_genre)\n",
    "    relative_freqs[genre] = sorted_freqs[:10]\n",
    "\n",
    "print(relative_freqs)"
   ]
  },
  {
   "cell_type": "code",
   "execution_count": null,
   "id": "204b6549",
   "metadata": {},
   "outputs": [],
   "source": []
  }
 ],
 "metadata": {
  "kernelspec": {
   "display_name": "Python 3 (ipykernel)",
   "language": "python",
   "name": "python3"
  },
  "language_info": {
   "codemirror_mode": {
    "name": "ipython",
    "version": 3
   },
   "file_extension": ".py",
   "mimetype": "text/x-python",
   "name": "python",
   "nbconvert_exporter": "python",
   "pygments_lexer": "ipython3",
   "version": "3.10.9"
  }
 },
 "nbformat": 4,
 "nbformat_minor": 5
}
