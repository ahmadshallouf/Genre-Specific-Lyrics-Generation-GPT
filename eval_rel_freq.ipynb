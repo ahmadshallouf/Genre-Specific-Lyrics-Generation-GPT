{
 "cells": [
  {
   "cell_type": "code",
   "execution_count": 19,
   "id": "092a555f",
   "metadata": {},
   "outputs": [],
   "source": [
    "import pandas as pd\n",
    "from lexical_diversity import lex_div as ld\n",
    "import json\n",
    "import math"
   ]
  },
  {
   "cell_type": "code",
   "execution_count": 2,
   "id": "8ca03339",
   "metadata": {},
   "outputs": [
    {
     "data": {
      "text/html": [
       "<div>\n",
       "<style scoped>\n",
       "    .dataframe tbody tr th:only-of-type {\n",
       "        vertical-align: middle;\n",
       "    }\n",
       "\n",
       "    .dataframe tbody tr th {\n",
       "        vertical-align: top;\n",
       "    }\n",
       "\n",
       "    .dataframe thead th {\n",
       "        text-align: right;\n",
       "    }\n",
       "</style>\n",
       "<table border=\"1\" class=\"dataframe\">\n",
       "  <thead>\n",
       "    <tr style=\"text-align: right;\">\n",
       "      <th></th>\n",
       "      <th>genre</th>\n",
       "      <th>lyrics</th>\n",
       "      <th>topic</th>\n",
       "    </tr>\n",
       "  </thead>\n",
       "  <tbody>\n",
       "    <tr>\n",
       "      <th>0</th>\n",
       "      <td>pop</td>\n",
       "      <td>hold time feel break feel untrue convince spea...</td>\n",
       "      <td>sadness</td>\n",
       "    </tr>\n",
       "    <tr>\n",
       "      <th>4</th>\n",
       "      <td>pop</td>\n",
       "      <td>believe drop rain fall grow believe darkest ni...</td>\n",
       "      <td>world/life</td>\n",
       "    </tr>\n",
       "    <tr>\n",
       "      <th>6</th>\n",
       "      <td>pop</td>\n",
       "      <td>sweetheart send letter goodbye secret feel bet...</td>\n",
       "      <td>music</td>\n",
       "    </tr>\n",
       "    <tr>\n",
       "      <th>10</th>\n",
       "      <td>pop</td>\n",
       "      <td>kiss lips want stroll charm mambo chacha merin...</td>\n",
       "      <td>romantic</td>\n",
       "    </tr>\n",
       "    <tr>\n",
       "      <th>12</th>\n",
       "      <td>pop</td>\n",
       "      <td>till darling till matter know till dream live ...</td>\n",
       "      <td>romantic</td>\n",
       "    </tr>\n",
       "    <tr>\n",
       "      <th>...</th>\n",
       "      <td>...</td>\n",
       "      <td>...</td>\n",
       "      <td>...</td>\n",
       "    </tr>\n",
       "    <tr>\n",
       "      <th>82447</th>\n",
       "      <td>hip hop</td>\n",
       "      <td>cause fuck leave scar tick tock clock come kno...</td>\n",
       "      <td>obscene</td>\n",
       "    </tr>\n",
       "    <tr>\n",
       "      <th>82448</th>\n",
       "      <td>hip hop</td>\n",
       "      <td>minks things chain ring braclets yap fame come...</td>\n",
       "      <td>obscene</td>\n",
       "    </tr>\n",
       "    <tr>\n",
       "      <th>82449</th>\n",
       "      <td>hip hop</td>\n",
       "      <td>get ban get ban stick crack relax plan attack ...</td>\n",
       "      <td>obscene</td>\n",
       "    </tr>\n",
       "    <tr>\n",
       "      <th>82450</th>\n",
       "      <td>hip hop</td>\n",
       "      <td>check check yeah yeah hear thing call switch g...</td>\n",
       "      <td>obscene</td>\n",
       "    </tr>\n",
       "    <tr>\n",
       "      <th>82451</th>\n",
       "      <td>hip hop</td>\n",
       "      <td>remix killer alive remix thriller trap bitch s...</td>\n",
       "      <td>obscene</td>\n",
       "    </tr>\n",
       "  </tbody>\n",
       "</table>\n",
       "<p>28372 rows × 3 columns</p>\n",
       "</div>"
      ],
      "text/plain": [
       "         genre                                             lyrics       topic\n",
       "0          pop  hold time feel break feel untrue convince spea...     sadness\n",
       "4          pop  believe drop rain fall grow believe darkest ni...  world/life\n",
       "6          pop  sweetheart send letter goodbye secret feel bet...       music\n",
       "10         pop  kiss lips want stroll charm mambo chacha merin...    romantic\n",
       "12         pop  till darling till matter know till dream live ...    romantic\n",
       "...        ...                                                ...         ...\n",
       "82447  hip hop  cause fuck leave scar tick tock clock come kno...     obscene\n",
       "82448  hip hop  minks things chain ring braclets yap fame come...     obscene\n",
       "82449  hip hop  get ban get ban stick crack relax plan attack ...     obscene\n",
       "82450  hip hop  check check yeah yeah hear thing call switch g...     obscene\n",
       "82451  hip hop  remix killer alive remix thriller trap bitch s...     obscene\n",
       "\n",
       "[28372 rows x 3 columns]"
      ]
     },
     "execution_count": 2,
     "metadata": {},
     "output_type": "execute_result"
    }
   ],
   "source": [
    "df = pd.read_csv('data/tcc_ceds_music.csv', index_col=0, encoding = 'unicode_escape')\n",
    "\n",
    "cols = [3, 4, 28]\n",
    "df = df[df.columns[cols]]\n",
    "df"
   ]
  },
  {
   "cell_type": "code",
   "execution_count": 13,
   "id": "c516a87c",
   "metadata": {},
   "outputs": [
    {
     "ename": "KeyboardInterrupt",
     "evalue": "",
     "output_type": "error",
     "traceback": [
      "\u001b[1;31m---------------------------------------------------------------------------\u001b[0m",
      "\u001b[1;31mKeyboardInterrupt\u001b[0m                         Traceback (most recent call last)",
      "Cell \u001b[1;32mIn[13], line 6\u001b[0m\n\u001b[0;32m      4\u001b[0m flt \u001b[38;5;241m=\u001b[39m ld\u001b[38;5;241m.\u001b[39mflemmatize(concatenated)\n\u001b[0;32m      5\u001b[0m \u001b[38;5;28;01mfor\u001b[39;00m word \u001b[38;5;129;01min\u001b[39;00m flt:\n\u001b[1;32m----> 6\u001b[0m     freq \u001b[38;5;241m=\u001b[39m concatenated\u001b[38;5;241m.\u001b[39mcount(word)\n",
      "\u001b[1;31mKeyboardInterrupt\u001b[0m: "
     ]
    }
   ],
   "source": [
    "for genre in df.genre.unique():\n",
    "    df_genre = df.loc[df['genre'] == genre]\n",
    "    concatenated = '.'.join(df_genre['lyrics'].tolist())\n",
    "    flt = ld.flemmatize(concatenated)\n",
    "    for word in flt:\n",
    "        freq_num = concatenated.count(word)/len(flt)\n",
    "        freq_denom = "
   ]
  },
  {
   "cell_type": "code",
   "execution_count": 31,
   "id": "3d4a72ae",
   "metadata": {},
   "outputs": [
    {
     "name": "stdout",
     "output_type": "stream",
     "text": [
      "['genre', 'i', 'lyric', 'to', 'top', 'topic']\n"
     ]
    }
   ],
   "source": [
    "f = open('generation_output.json')\n",
    "data = json.load(f)\n",
    "\n",
    "#genres = {'pop': '', 'country': '', 'blues': '', 'jazz': '', 'reggae': '', 'hip hop': ''}\n",
    "genres = {'pop': '', 'hip hop': ''}\n",
    "for i in data:\n",
    "    prompt = i[0]\n",
    "    prediction = i[1]\n",
    "    res = prompt.split(\"for genre \", 1)[1].split(\", topic\")[0]\n",
    "    genres[res] = genres[res] + prediction\n",
    "\n",
    "relative_freqs = {}\n",
    "for genre, lyrics in genres.items():\n",
    "    flt = ld.flemmatize(lyrics)\n",
    "    \n",
    "    for word in flt:\n",
    "        freq_num = lyrics.count(word)/len(lyrics)\n",
    "        lyrics_in_dataset = concatenated = '.'.join(df.loc[df['genre'] == genre])\n",
    "        freq_denom = lyrics_in_dataset.count(word)/len(lyrics_in_dataset)\n",
    "        if freq_denom != 0:\n",
    "            relative_freq = math.log(freq_num/freq_denom)\n",
    "            relative_freqs[word] = relative_freq  \n",
    "\n",
    "sorted_rel_freq = sorted(relative_freqs)\n",
    "print(sorted_rel_freq)"
   ]
  }
 ],
 "metadata": {
  "kernelspec": {
   "display_name": "Python 3 (ipykernel)",
   "language": "python",
   "name": "python3"
  },
  "language_info": {
   "codemirror_mode": {
    "name": "ipython",
    "version": 3
   },
   "file_extension": ".py",
   "mimetype": "text/x-python",
   "name": "python",
   "nbconvert_exporter": "python",
   "pygments_lexer": "ipython3",
   "version": "3.10.9"
  }
 },
 "nbformat": 4,
 "nbformat_minor": 5
}
