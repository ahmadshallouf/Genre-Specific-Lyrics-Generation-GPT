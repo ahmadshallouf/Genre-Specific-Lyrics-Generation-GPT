{
 "cells": [
  {
   "cell_type": "code",
   "execution_count": 1,
   "id": "e36c4d16",
   "metadata": {},
   "outputs": [],
   "source": [
    "import pandas as pd"
   ]
  },
  {
   "cell_type": "code",
   "execution_count": 2,
   "id": "95f66a83",
   "metadata": {},
   "outputs": [
    {
     "data": {
      "text/html": [
       "<div>\n",
       "<style scoped>\n",
       "    .dataframe tbody tr th:only-of-type {\n",
       "        vertical-align: middle;\n",
       "    }\n",
       "\n",
       "    .dataframe tbody tr th {\n",
       "        vertical-align: top;\n",
       "    }\n",
       "\n",
       "    .dataframe thead th {\n",
       "        text-align: right;\n",
       "    }\n",
       "</style>\n",
       "<table border=\"1\" class=\"dataframe\">\n",
       "  <thead>\n",
       "    <tr style=\"text-align: right;\">\n",
       "      <th></th>\n",
       "      <th>genre</th>\n",
       "      <th>lyrics</th>\n",
       "      <th>topic</th>\n",
       "    </tr>\n",
       "  </thead>\n",
       "  <tbody>\n",
       "    <tr>\n",
       "      <th>0</th>\n",
       "      <td>pop</td>\n",
       "      <td>hold time feel break feel untrue convince spea...</td>\n",
       "      <td>sadness</td>\n",
       "    </tr>\n",
       "    <tr>\n",
       "      <th>4</th>\n",
       "      <td>pop</td>\n",
       "      <td>believe drop rain fall grow believe darkest ni...</td>\n",
       "      <td>world/life</td>\n",
       "    </tr>\n",
       "    <tr>\n",
       "      <th>6</th>\n",
       "      <td>pop</td>\n",
       "      <td>sweetheart send letter goodbye secret feel bet...</td>\n",
       "      <td>music</td>\n",
       "    </tr>\n",
       "    <tr>\n",
       "      <th>10</th>\n",
       "      <td>pop</td>\n",
       "      <td>kiss lips want stroll charm mambo chacha merin...</td>\n",
       "      <td>romantic</td>\n",
       "    </tr>\n",
       "    <tr>\n",
       "      <th>12</th>\n",
       "      <td>pop</td>\n",
       "      <td>till darling till matter know till dream live ...</td>\n",
       "      <td>romantic</td>\n",
       "    </tr>\n",
       "    <tr>\n",
       "      <th>...</th>\n",
       "      <td>...</td>\n",
       "      <td>...</td>\n",
       "      <td>...</td>\n",
       "    </tr>\n",
       "    <tr>\n",
       "      <th>82447</th>\n",
       "      <td>hip hop</td>\n",
       "      <td>cause fuck leave scar tick tock clock come kno...</td>\n",
       "      <td>obscene</td>\n",
       "    </tr>\n",
       "    <tr>\n",
       "      <th>82448</th>\n",
       "      <td>hip hop</td>\n",
       "      <td>minks things chain ring braclets yap fame come...</td>\n",
       "      <td>obscene</td>\n",
       "    </tr>\n",
       "    <tr>\n",
       "      <th>82449</th>\n",
       "      <td>hip hop</td>\n",
       "      <td>get ban get ban stick crack relax plan attack ...</td>\n",
       "      <td>obscene</td>\n",
       "    </tr>\n",
       "    <tr>\n",
       "      <th>82450</th>\n",
       "      <td>hip hop</td>\n",
       "      <td>check check yeah yeah hear thing call switch g...</td>\n",
       "      <td>obscene</td>\n",
       "    </tr>\n",
       "    <tr>\n",
       "      <th>82451</th>\n",
       "      <td>hip hop</td>\n",
       "      <td>remix killer alive remix thriller trap bitch s...</td>\n",
       "      <td>obscene</td>\n",
       "    </tr>\n",
       "  </tbody>\n",
       "</table>\n",
       "<p>28372 rows × 3 columns</p>\n",
       "</div>"
      ],
      "text/plain": [
       "         genre                                             lyrics       topic\n",
       "0          pop  hold time feel break feel untrue convince spea...     sadness\n",
       "4          pop  believe drop rain fall grow believe darkest ni...  world/life\n",
       "6          pop  sweetheart send letter goodbye secret feel bet...       music\n",
       "10         pop  kiss lips want stroll charm mambo chacha merin...    romantic\n",
       "12         pop  till darling till matter know till dream live ...    romantic\n",
       "...        ...                                                ...         ...\n",
       "82447  hip hop  cause fuck leave scar tick tock clock come kno...     obscene\n",
       "82448  hip hop  minks things chain ring braclets yap fame come...     obscene\n",
       "82449  hip hop  get ban get ban stick crack relax plan attack ...     obscene\n",
       "82450  hip hop  check check yeah yeah hear thing call switch g...     obscene\n",
       "82451  hip hop  remix killer alive remix thriller trap bitch s...     obscene\n",
       "\n",
       "[28372 rows x 3 columns]"
      ]
     },
     "execution_count": 2,
     "metadata": {},
     "output_type": "execute_result"
    }
   ],
   "source": [
    "df = pd.read_csv('data/tcc_ceds_music.csv', index_col=0, encoding = 'unicode_escape')\n",
    "\n",
    "cols = [3, 4, 28]\n",
    "df = df[df.columns[cols]]\n",
    "df"
   ]
  },
  {
   "cell_type": "code",
   "execution_count": 3,
   "id": "0cbf25ce",
   "metadata": {},
   "outputs": [
    {
     "data": {
      "text/plain": [
       "28372"
      ]
     },
     "execution_count": 3,
     "metadata": {},
     "output_type": "execute_result"
    }
   ],
   "source": [
    "len(df)"
   ]
  },
  {
   "cell_type": "code",
   "execution_count": 4,
   "id": "686fec4a",
   "metadata": {},
   "outputs": [
    {
     "data": {
      "text/plain": [
       "array(['pop', 'country', 'blues', 'jazz', 'reggae', 'rock', 'hip hop'],\n",
       "      dtype=object)"
      ]
     },
     "execution_count": 4,
     "metadata": {},
     "output_type": "execute_result"
    }
   ],
   "source": [
    "df.genre.unique()"
   ]
  },
  {
   "cell_type": "code",
   "execution_count": 5,
   "id": "462305ea",
   "metadata": {},
   "outputs": [],
   "source": [
    "import math\n",
    "df.genre.unique()\n",
    "train_frames = []\n",
    "eval_frames = []\n",
    "for genre in df.genre.unique():\n",
    "    df_genre = df.loc[df['genre'] == genre]\n",
    "    train_len = math.floor(len(df_genre) * 9 / 10)\n",
    "    eval_len = len(df_genre) - train_len\n",
    "    df_genre_train = df_genre.head(train_len)\n",
    "    df_genre_eval = df_genre.tail(eval_len)\n",
    "    train_frames.append(df_genre_train)\n",
    "    eval_frames.append(df_genre_eval)\n",
    "\n",
    "train_data = pd.concat(train_frames)\n",
    "eval_data = pd.concat(eval_frames)"
   ]
  },
  {
   "cell_type": "code",
   "execution_count": 7,
   "id": "5fa3102c",
   "metadata": {},
   "outputs": [],
   "source": [
    "prompt_patterns = [\"Generate music lyrics in English for genre {genre}, topic {topic}\",\n",
    "                  \"Generate {genre} lyrics about {topic}\",\n",
    "                   \"Generate lyrics in genre {genre} about {topic}\",\n",
    "                  \"For genre {genre} generate lyrics about {topic}\"]"
   ]
  },
  {
   "cell_type": "code",
   "execution_count": 8,
   "id": "195693cf",
   "metadata": {},
   "outputs": [],
   "source": [
    "eval_prompts_path = \"eval_prompts.txt\"\n",
    "sample_list = []\n",
    "with open(eval_prompts_path, 'w', encoding=\"utf-8\") as f:\n",
    "    for index in range(0, eval_data.shape[0]):\n",
    "        for prompt_pattern in prompt_patterns:\n",
    "            genre = eval_data.iloc[index][\"genre\"]\n",
    "            topic = eval_data.iloc[index][\"topic\"]\n",
    "            prompt = prompt_pattern.format(genre = genre, topic = topic)\n",
    "            f.write(prompt)\n",
    "            f.write('\\n')"
   ]
  },
  {
   "cell_type": "code",
   "execution_count": 9,
   "id": "d6718b56",
   "metadata": {},
   "outputs": [],
   "source": [
    "input_file_path = \"data/input-lyrics.txt\""
   ]
  },
  {
   "cell_type": "code",
   "execution_count": 10,
   "id": "2d3b2719",
   "metadata": {},
   "outputs": [],
   "source": [
    "sample_list = []\n",
    "with open(input_file_path, 'w', encoding=\"utf-8\") as f:\n",
    "    for index in range(0, train_data.shape[0]):\n",
    "        genre = train_data.iloc[index][\"genre\"]\n",
    "        lyrics = train_data.iloc[index][\"lyrics\"]\n",
    "        topic = train_data.iloc[index][\"topic\"]\n",
    "        for prompt_pattern in prompt_patterns:\n",
    "            prompt = prompt_pattern.format(genre = genre, topic = topic)\n",
    "            f.write(prompt)\n",
    "            f.write('\\n')\n",
    "            f.write(lyrics)\n",
    "            f.write('\\n\\n')\n"
   ]
  },
  {
   "cell_type": "code",
   "execution_count": 11,
   "id": "86ed4ea4",
   "metadata": {
    "scrolled": true
   },
   "outputs": [
    {
     "name": "stdout",
     "output_type": "stream",
     "text": [
      "train has 8,715,109 tokens\n",
      "val has 971,723 tokens\n"
     ]
    }
   ],
   "source": [
    "import os\n",
    "import requests\n",
    "import tiktoken\n",
    "import numpy as np\n",
    "import pandas as pd\n",
    "\n",
    "with open(input_file_path, 'r', encoding=\"utf8\") as f:\n",
    "    data = f.read()\n",
    "n = len(data)\n",
    "train_data = data[:int(n*0.9)]\n",
    "val_data = data[int(n*0.9):]\n",
    "\n",
    "# encode with tiktoken gpt2 bpe\n",
    "enc = tiktoken.get_encoding(\"gpt2\")\n",
    "train_ids = enc.encode_ordinary(train_data)\n",
    "val_ids = enc.encode_ordinary(val_data)\n",
    "print(f\"train has {len(train_ids):,} tokens\")\n",
    "print(f\"val has {len(val_ids):,} tokens\")\n",
    "\n",
    "# export to bin files\n",
    "train_ids = np.array(train_ids, dtype=np.uint16)\n",
    "val_ids = np.array(val_ids, dtype=np.uint16)\n",
    "train_ids.tofile('data/lyrics/train.bin')\n",
    "val_ids.tofile('data/lyrics/val.bin')"
   ]
  },
  {
   "cell_type": "code",
   "execution_count": null,
   "id": "b57e47b6",
   "metadata": {},
   "outputs": [],
   "source": []
  }
 ],
 "metadata": {
  "kernelspec": {
   "display_name": "Python 3 (ipykernel)",
   "language": "python",
   "name": "python3"
  },
  "language_info": {
   "codemirror_mode": {
    "name": "ipython",
    "version": 3
   },
   "file_extension": ".py",
   "mimetype": "text/x-python",
   "name": "python",
   "nbconvert_exporter": "python",
   "pygments_lexer": "ipython3",
   "version": "3.10.9"
  }
 },
 "nbformat": 4,
 "nbformat_minor": 5
}
