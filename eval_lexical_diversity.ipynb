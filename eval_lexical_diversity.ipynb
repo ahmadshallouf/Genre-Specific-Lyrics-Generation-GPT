{
 "cells": [
  {
   "cell_type": "code",
   "execution_count": 3,
   "id": "2666ad8e",
   "metadata": {
    "ExecuteTime": {
     "end_time": "2023-07-01T14:38:06.393768Z",
     "start_time": "2023-07-01T14:38:06.385179Z"
    }
   },
   "outputs": [],
   "source": [
    "from lexical_diversity import lex_div as ld\n",
    "import json"
   ]
  },
  {
   "cell_type": "code",
   "execution_count": 4,
   "id": "bf039c43",
   "metadata": {
    "ExecuteTime": {
     "end_time": "2023-07-01T14:39:33.095513Z",
     "start_time": "2023-07-01T14:39:33.027228Z"
    }
   },
   "outputs": [],
   "source": [
    "# Opening JSON file and reading model predictions\n",
    "f = open('generation_output.json')\n",
    "data = json.load(f)\n",
    "data.pop(0)\n",
    "predictions = \"\"\n",
    "for i in data:\n",
    "    prompt = i[0]\n",
    "    prediction = i[1]\n",
    "    predictions = predictions + prediction"
   ]
  },
  {
   "cell_type": "code",
   "execution_count": 5,
   "id": "e0391a1f",
   "metadata": {
    "ExecuteTime": {
     "end_time": "2023-07-01T14:39:37.284540Z",
     "start_time": "2023-07-01T14:39:35.963898Z"
    }
   },
   "outputs": [],
   "source": [
    "# Tokenize \n",
    "tok = ld.tokenize(predictions)"
   ]
  },
  {
   "cell_type": "code",
   "execution_count": 6,
   "id": "9343b517",
   "metadata": {
    "ExecuteTime": {
     "end_time": "2023-07-01T14:39:39.162683Z",
     "start_time": "2023-07-01T14:39:37.408881Z"
    }
   },
   "outputs": [],
   "source": [
    "# templatize\n",
    "flt = ld.flemmatize(predictions)"
   ]
  },
  {
   "cell_type": "code",
   "execution_count": 7,
   "id": "2b4c8751",
   "metadata": {
    "ExecuteTime": {
     "end_time": "2023-07-01T14:39:39.225270Z",
     "start_time": "2023-07-01T14:39:39.216845Z"
    }
   },
   "outputs": [
    {
     "data": {
      "text/plain": "0.0015439324191229018"
     },
     "execution_count": 7,
     "metadata": {},
     "output_type": "execute_result"
    }
   ],
   "source": [
    "ld.ttr(flt)"
   ]
  },
  {
   "cell_type": "code",
   "execution_count": 8,
   "id": "94bf22f0",
   "metadata": {
    "ExecuteTime": {
     "end_time": "2023-07-01T14:39:50.243278Z",
     "start_time": "2023-07-01T14:39:45.324482Z"
    }
   },
   "outputs": [
    {
     "data": {
      "text/plain": "12.41419693293182"
     },
     "execution_count": 8,
     "metadata": {},
     "output_type": "execute_result"
    }
   ],
   "source": [
    "ld.mtld(flt)"
   ]
  },
  {
   "cell_type": "code",
   "execution_count": 10,
   "id": "a18c0b82",
   "metadata": {
    "ExecuteTime": {
     "end_time": "2023-07-01T15:11:46.472431Z",
     "start_time": "2023-07-01T14:42:44.750929Z"
    }
   },
   "outputs": [
    {
     "ename": "KeyboardInterrupt",
     "evalue": "",
     "output_type": "error",
     "traceback": [
      "\u001B[0;31m---------------------------------------------------------------------------\u001B[0m",
      "\u001B[0;31mKeyboardInterrupt\u001B[0m                         Traceback (most recent call last)",
      "Cell \u001B[0;32mIn[10], line 1\u001B[0m\n\u001B[0;32m----> 1\u001B[0m \u001B[43mld\u001B[49m\u001B[38;5;241;43m.\u001B[39;49m\u001B[43mmtld_ma_wrap\u001B[49m\u001B[43m(\u001B[49m\u001B[43mflt\u001B[49m\u001B[43m)\u001B[49m\n",
      "File \u001B[0;32m~/workspace/Genre-Specific-Lyrics-Generation-GPT/venv/lib/python3.9/site-packages/lexical_diversity/lex_div.py:210\u001B[0m, in \u001B[0;36mmtld_ma_wrap\u001B[0;34m(text, min)\u001B[0m\n\u001B[1;32m    208\u001B[0m breaker \u001B[38;5;241m=\u001B[39m \u001B[38;5;241m0\u001B[39m\n\u001B[1;32m    209\u001B[0m sub_text \u001B[38;5;241m=\u001B[39m double_text[x:]\n\u001B[0;32m--> 210\u001B[0m \u001B[38;5;28;01mfor\u001B[39;00m y \u001B[38;5;129;01min\u001B[39;00m \u001B[38;5;28mrange\u001B[39m(\u001B[38;5;28mlen\u001B[39m(sub_text)):\n\u001B[1;32m    211\u001B[0m \t\u001B[38;5;28;01mif\u001B[39;00m breaker \u001B[38;5;241m==\u001B[39m \u001B[38;5;241m0\u001B[39m:\n\u001B[1;32m    212\u001B[0m \t\tfactor_text \u001B[38;5;241m=\u001B[39m sub_text[:y\u001B[38;5;241m+\u001B[39m\u001B[38;5;241m1\u001B[39m]\n",
      "\u001B[0;31mKeyboardInterrupt\u001B[0m: "
     ]
    }
   ],
   "source": [
    "ld.mtld_ma_wrap(flt)"
   ]
  },
  {
   "cell_type": "code",
   "execution_count": null,
   "id": "fb2edfb8",
   "metadata": {},
   "outputs": [],
   "source": []
  }
 ],
 "metadata": {
  "kernelspec": {
   "display_name": "Python 3 (ipykernel)",
   "language": "python",
   "name": "python3"
  },
  "language_info": {
   "codemirror_mode": {
    "name": "ipython",
    "version": 3
   },
   "file_extension": ".py",
   "mimetype": "text/x-python",
   "name": "python",
   "nbconvert_exporter": "python",
   "pygments_lexer": "ipython3",
   "version": "3.10.9"
  }
 },
 "nbformat": 4,
 "nbformat_minor": 5
}
