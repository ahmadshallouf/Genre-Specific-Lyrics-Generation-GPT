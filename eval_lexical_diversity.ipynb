{
 "cells": [
  {
   "cell_type": "code",
   "execution_count": 3,
   "id": "2666ad8e",
   "metadata": {},
   "outputs": [],
   "source": [
    "from lexical_diversity import lex_div as ld\n",
    "import json"
   ]
  },
  {
   "cell_type": "code",
   "execution_count": 4,
   "id": "bf039c43",
   "metadata": {},
   "outputs": [],
   "source": [
    "# Opening JSON file and reading model predictions\n",
    "f = open('generation_output.json')\n",
    "data = json.load(f)\n",
    "\n",
    "predictions = \"\"\n",
    "for i in data:\n",
    "    prompt = i[0]\n",
    "    prediction = i[1]\n",
    "    predictions = predictions + prediction"
   ]
  },
  {
   "cell_type": "code",
   "execution_count": 5,
   "id": "e0391a1f",
   "metadata": {},
   "outputs": [],
   "source": [
    "# Tokenize \n",
    "tok = ld.tokenize(predictions)"
   ]
  },
  {
   "cell_type": "code",
   "execution_count": 8,
   "id": "9343b517",
   "metadata": {},
   "outputs": [],
   "source": [
    "# lemmatize \n",
    "flt = ld.flemmatize(predictions)"
   ]
  },
  {
   "cell_type": "code",
   "execution_count": 10,
   "id": "2b4c8751",
   "metadata": {},
   "outputs": [
    {
     "data": {
      "text/plain": [
       "0.37972972972972974"
      ]
     },
     "execution_count": 10,
     "metadata": {},
     "output_type": "execute_result"
    }
   ],
   "source": [
    "ld.ttr(flt)"
   ]
  },
  {
   "cell_type": "code",
   "execution_count": 11,
   "id": "94bf22f0",
   "metadata": {},
   "outputs": [
    {
     "data": {
      "text/plain": [
       "50.43205808738468"
      ]
     },
     "execution_count": 11,
     "metadata": {},
     "output_type": "execute_result"
    }
   ],
   "source": [
    "ld.mtld(flt)"
   ]
  },
  {
   "cell_type": "code",
   "execution_count": 12,
   "id": "a18c0b82",
   "metadata": {},
   "outputs": [
    {
     "data": {
      "text/plain": [
       "53.65"
      ]
     },
     "execution_count": 12,
     "metadata": {},
     "output_type": "execute_result"
    }
   ],
   "source": [
    "ld.mtld_ma_wrap(flt)"
   ]
  },
  {
   "cell_type": "code",
   "execution_count": null,
   "id": "fb2edfb8",
   "metadata": {},
   "outputs": [],
   "source": []
  }
 ],
 "metadata": {
  "kernelspec": {
   "display_name": "Python 3 (ipykernel)",
   "language": "python",
   "name": "python3"
  },
  "language_info": {
   "codemirror_mode": {
    "name": "ipython",
    "version": 3
   },
   "file_extension": ".py",
   "mimetype": "text/x-python",
   "name": "python",
   "nbconvert_exporter": "python",
   "pygments_lexer": "ipython3",
   "version": "3.10.9"
  }
 },
 "nbformat": 4,
 "nbformat_minor": 5
}
